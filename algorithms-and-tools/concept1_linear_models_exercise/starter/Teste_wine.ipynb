{
 "cells": [
  {
   "cell_type": "code",
   "execution_count": 5,
   "metadata": {},
   "outputs": [],
   "source": [
    "import pandas as pd\n",
    "from sklearn.datasets import load_wine\n",
    "data = load_wine()\n",
    "#data.target[[10, 80, 140]]\n",
    "#array([0, 1, 2])\n",
    "#list(data.target_names)\n"
   ]
  },
  {
   "cell_type": "code",
   "execution_count": 9,
   "metadata": {},
   "outputs": [
    {
     "data": {
      "text/plain": [
       "'{\\'data\\': array([[1.423e+01, 1.710e+00, 2.430e+00, ..., 1.040e+00, 3.920e+00,\\n        1.065e+03],\\n       [1.320e+01, 1.780e+00, 2.140e+00, ..., 1.050e+00, 3.400e+00,\\n        1.050e+03],\\n       [1.316e+01, 2.360e+00, 2.670e+00, ..., 1.030e+00, 3.170e+00,\\n        1.185e+03],\\n       ...,\\n       [1.327e+01, 4.280e+00, 2.260e+00, ..., 5.900e-01, 1.560e+00,\\n        8.350e+02],\\n       [1.317e+01, 2.590e+00, 2.370e+00, ..., 6.000e-01, 1.620e+00,\\n        8.400e+02],\\n       [1.413e+01, 4.100e+00, 2.740e+00, ..., 6.100e-01, 1.600e+00,\\n        5.600e+02]]), \\'target\\': array([0, 0, 0, 0, 0, 0, 0, 0, 0, 0, 0, 0, 0, 0, 0, 0, 0, 0, 0, 0, 0, 0,\\n       0, 0, 0, 0, 0, 0, 0, 0, 0, 0, 0, 0, 0, 0, 0, 0, 0, 0, 0, 0, 0, 0,\\n       0, 0, 0, 0, 0, 0, 0, 0, 0, 0, 0, 0, 0, 0, 0, 1, 1, 1, 1, 1, 1, 1,\\n       1, 1, 1, 1, 1, 1, 1, 1, 1, 1, 1, 1, 1, 1, 1, 1, 1, 1, 1, 1, 1, 1,\\n       1, 1, 1, 1, 1, 1, 1, 1, 1, 1, 1, 1, 1, 1, 1, 1, 1, 1, 1, 1, 1, 1,\\n       1, 1, 1, 1, 1, 1, 1, 1, 1, 1, 1, 1, 1, 1, 1, 1, 1, 1, 1, 1, 2, 2,\\n       2, 2, 2, 2, 2, 2, 2, 2, 2, 2, 2, 2, 2, 2, 2, 2, 2, 2, 2, 2, 2, 2,\\n       2, 2, 2, 2, 2, 2, 2, 2, 2, 2, 2, 2, 2, 2, 2, 2, 2, 2, 2, 2, 2, 2,\\n       2, 2]), \\'target_names\\': array([\\'class_0\\', \\'class_1\\', \\'class_2\\'], dtype=\\'<U7\\'), \\'DESCR\\': \\'.. _wine_dataset:\\\\n\\\\nWine recognition dataset\\\\n------------------------\\\\n\\\\n**Data Set Characteristics:**\\\\n\\\\n    :Number of Instances: 178 (50 in each of three classes)\\\\n    :Number of Attributes: 13 numeric, predictive attributes and the class\\\\n    :Attribute Information:\\\\n \\\\t\\\\t- Alcohol\\\\n \\\\t\\\\t- Malic acid\\\\n \\\\t\\\\t- Ash\\\\n\\\\t\\\\t- Alcalinity of ash  \\\\n \\\\t\\\\t- Magnesium\\\\n\\\\t\\\\t- Total phenols\\\\n \\\\t\\\\t- Flavanoids\\\\n \\\\t\\\\t- Nonflavanoid phenols\\\\n \\\\t\\\\t- Proanthocyanins\\\\n\\\\t\\\\t- Color intensity\\\\n \\\\t\\\\t- Hue\\\\n \\\\t\\\\t- OD280/OD315 of diluted wines\\\\n \\\\t\\\\t- Proline\\\\n\\\\n    - class:\\\\n            - class_0\\\\n            - class_1\\\\n            - class_2\\\\n\\\\t\\\\t\\\\n    :Summary Statistics:\\\\n    \\\\n    ============================= ==== ===== ======= =====\\\\n                                   Min   Max   Mean     SD\\\\n    ============================= ==== ===== ======= =====\\\\n    Alcohol:                      11.0  14.8    13.0   0.8\\\\n    Malic Acid:                   0.74  5.80    2.34  1.12\\\\n    Ash:                          1.36  3.23    2.36  0.27\\\\n    Alcalinity of Ash:            10.6  30.0    19.5   3.3\\\\n    Magnesium:                    70.0 162.0    99.7  14.3\\\\n    Total Phenols:                0.98  3.88    2.29  0.63\\\\n    Flavanoids:                   0.34  5.08    2.03  1.00\\\\n    Nonflavanoid Phenols:         0.13  0.66    0.36  0.12\\\\n    Proanthocyanins:              0.41  3.58    1.59  0.57\\\\n    Colour Intensity:              1.3  13.0     5.1   2.3\\\\n    Hue:                          0.48  1.71    0.96  0.23\\\\n    OD280/OD315 of diluted wines: 1.27  4.00    2.61  0.71\\\\n    Proline:                       278  1680     746   315\\\\n    ============================= ==== ===== ======= =====\\\\n\\\\n    :Missing Attribute Values: None\\\\n    :Class Distribution: class_0 (59), class_1 (71), class_2 (48)\\\\n    :Creator: R.A. Fisher\\\\n    :Donor: Michael Marshall (MARSHALL%PLU@io.arc.nasa.gov)\\\\n    :Date: July, 1988\\\\n\\\\nThis is a copy of UCI ML Wine recognition datasets.\\\\nhttps://archive.ics.uci.edu/ml/machine-learning-databases/wine/wine.data\\\\n\\\\nThe data is the results of a chemical analysis of wines grown in the same\\\\nregion in Italy by three different cultivators. There are thirteen different\\\\nmeasurements taken for different constituents found in the three types of\\\\nwine.\\\\n\\\\nOriginal Owners: \\\\n\\\\nForina, M. et al, PARVUS - \\\\nAn Extendible Package for Data Exploration, Classification and Correlation. \\\\nInstitute of Pharmaceutical and Food Analysis and Technologies,\\\\nVia Brigata Salerno, 16147 Genoa, Italy.\\\\n\\\\nCitation:\\\\n\\\\nLichman, M. (2013). UCI Machine Learning Repository\\\\n[https://archive.ics.uci.edu/ml]. Irvine, CA: University of California,\\\\nSchool of Information and Computer Science. \\\\n\\\\n.. topic:: References\\\\n\\\\n  (1) S. Aeberhard, D. Coomans and O. de Vel, \\\\n  Comparison of Classifiers in High Dimensional Settings, \\\\n  Tech. Rep. no. 92-02, (1992), Dept. of Computer Science and Dept. of  \\\\n  Mathematics and Statistics, James Cook University of North Queensland. \\\\n  (Also submitted to Technometrics). \\\\n\\\\n  The data was used with many others for comparing various \\\\n  classifiers. The classes are separable, though only RDA \\\\n  has achieved 100% correct classification. \\\\n  (RDA : 100%, QDA 99.4%, LDA 98.9%, 1NN 96.1% (z-transformed data)) \\\\n  (All results using the leave-one-out technique) \\\\n\\\\n  (2) S. Aeberhard, D. Coomans and O. de Vel, \\\\n  \"THE CLASSIFICATION PERFORMANCE OF RDA\" \\\\n  Tech. Rep. no. 92-01, (1992), Dept. of Computer Science and Dept. of \\\\n  Mathematics and Statistics, James Cook University of North Queensland. \\\\n  (Also submitted to Journal of Chemometrics).\\\\n\\', \\'feature_names\\': [\\'alcohol\\', \\'malic_acid\\', \\'ash\\', \\'alcalinity_of_ash\\', \\'magnesium\\', \\'total_phenols\\', \\'flavanoids\\', \\'nonflavanoid_phenols\\', \\'proanthocyanins\\', \\'color_intensity\\', \\'hue\\', \\'od280/od315_of_diluted_wines\\', \\'proline\\']}'"
      ]
     },
     "execution_count": 9,
     "metadata": {},
     "output_type": "execute_result"
    }
   ],
   "source": [
    "str(data)"
   ]
  },
  {
   "cell_type": "code",
   "execution_count": 11,
   "metadata": {},
   "outputs": [
    {
     "ename": "AttributeError",
     "evalue": "shape",
     "output_type": "error",
     "traceback": [
      "\u001b[0;31m---------------------------------------------------------------------------\u001b[0m",
      "\u001b[0;31mKeyError\u001b[0m                                  Traceback (most recent call last)",
      "\u001b[0;32m/opt/conda/lib/python3.7/site-packages/sklearn/utils/__init__.py\u001b[0m in \u001b[0;36m__getattr__\u001b[0;34m(self, key)\u001b[0m\n\u001b[1;32m    113\u001b[0m         \u001b[0;32mtry\u001b[0m\u001b[0;34m:\u001b[0m\u001b[0;34m\u001b[0m\u001b[0;34m\u001b[0m\u001b[0m\n\u001b[0;32m--> 114\u001b[0;31m             \u001b[0;32mreturn\u001b[0m \u001b[0mself\u001b[0m\u001b[0;34m[\u001b[0m\u001b[0mkey\u001b[0m\u001b[0;34m]\u001b[0m\u001b[0;34m\u001b[0m\u001b[0;34m\u001b[0m\u001b[0m\n\u001b[0m\u001b[1;32m    115\u001b[0m         \u001b[0;32mexcept\u001b[0m \u001b[0mKeyError\u001b[0m\u001b[0;34m:\u001b[0m\u001b[0;34m\u001b[0m\u001b[0;34m\u001b[0m\u001b[0m\n",
      "\u001b[0;31mKeyError\u001b[0m: 'shape'",
      "\nDuring handling of the above exception, another exception occurred:\n",
      "\u001b[0;31mAttributeError\u001b[0m                            Traceback (most recent call last)",
      "\u001b[0;32m<ipython-input-11-3d8483998d6f>\u001b[0m in \u001b[0;36m<module>\u001b[0;34m\u001b[0m\n\u001b[0;32m----> 1\u001b[0;31m \u001b[0mdata\u001b[0m\u001b[0;34m.\u001b[0m\u001b[0mshape\u001b[0m\u001b[0;34m(\u001b[0m\u001b[0;34m)\u001b[0m\u001b[0;34m\u001b[0m\u001b[0;34m\u001b[0m\u001b[0m\n\u001b[0m",
      "\u001b[0;32m/opt/conda/lib/python3.7/site-packages/sklearn/utils/__init__.py\u001b[0m in \u001b[0;36m__getattr__\u001b[0;34m(self, key)\u001b[0m\n\u001b[1;32m    114\u001b[0m             \u001b[0;32mreturn\u001b[0m \u001b[0mself\u001b[0m\u001b[0;34m[\u001b[0m\u001b[0mkey\u001b[0m\u001b[0;34m]\u001b[0m\u001b[0;34m\u001b[0m\u001b[0;34m\u001b[0m\u001b[0m\n\u001b[1;32m    115\u001b[0m         \u001b[0;32mexcept\u001b[0m \u001b[0mKeyError\u001b[0m\u001b[0;34m:\u001b[0m\u001b[0;34m\u001b[0m\u001b[0;34m\u001b[0m\u001b[0m\n\u001b[0;32m--> 116\u001b[0;31m             \u001b[0;32mraise\u001b[0m \u001b[0mAttributeError\u001b[0m\u001b[0;34m(\u001b[0m\u001b[0mkey\u001b[0m\u001b[0;34m)\u001b[0m\u001b[0;34m\u001b[0m\u001b[0;34m\u001b[0m\u001b[0m\n\u001b[0m\u001b[1;32m    117\u001b[0m \u001b[0;34m\u001b[0m\u001b[0m\n\u001b[1;32m    118\u001b[0m     \u001b[0;32mdef\u001b[0m \u001b[0m__setstate__\u001b[0m\u001b[0;34m(\u001b[0m\u001b[0mself\u001b[0m\u001b[0;34m,\u001b[0m \u001b[0mstate\u001b[0m\u001b[0;34m)\u001b[0m\u001b[0;34m:\u001b[0m\u001b[0;34m\u001b[0m\u001b[0;34m\u001b[0m\u001b[0m\n",
      "\u001b[0;31mAttributeError\u001b[0m: shape"
     ]
    }
   ],
   "source": []
  },
  {
   "cell_type": "code",
   "execution_count": null,
   "metadata": {},
   "outputs": [],
   "source": [
    "#Exemplo aulas Decision Trees, Random Forest, HCA, Feature Selections"
   ]
  },
  {
   "cell_type": "code",
   "execution_count": 12,
   "metadata": {},
   "outputs": [],
   "source": [
    "import pandas as pd\n",
    "from sklearn.ensemble import RandomForestClassifier\n",
    "\n",
    "df = pd.DataFrame(\n",
    "    [[1, 2, 0], [3, 4, 1], [5, 6, 0], [7, 8, 1]],\n",
    "    columns=[\"num\", \"amount\", \"target\"]\n",
    ")\n",
    "\n"
   ]
  },
  {
   "cell_type": "code",
   "execution_count": 13,
   "metadata": {},
   "outputs": [
    {
     "data": {
      "text/html": [
       "<div>\n",
       "<style scoped>\n",
       "    .dataframe tbody tr th:only-of-type {\n",
       "        vertical-align: middle;\n",
       "    }\n",
       "\n",
       "    .dataframe tbody tr th {\n",
       "        vertical-align: top;\n",
       "    }\n",
       "\n",
       "    .dataframe thead th {\n",
       "        text-align: right;\n",
       "    }\n",
       "</style>\n",
       "<table border=\"1\" class=\"dataframe\">\n",
       "  <thead>\n",
       "    <tr style=\"text-align: right;\">\n",
       "      <th></th>\n",
       "      <th>num</th>\n",
       "      <th>amount</th>\n",
       "      <th>target</th>\n",
       "    </tr>\n",
       "  </thead>\n",
       "  <tbody>\n",
       "    <tr>\n",
       "      <th>0</th>\n",
       "      <td>1</td>\n",
       "      <td>2</td>\n",
       "      <td>0</td>\n",
       "    </tr>\n",
       "    <tr>\n",
       "      <th>1</th>\n",
       "      <td>3</td>\n",
       "      <td>4</td>\n",
       "      <td>1</td>\n",
       "    </tr>\n",
       "    <tr>\n",
       "      <th>2</th>\n",
       "      <td>5</td>\n",
       "      <td>6</td>\n",
       "      <td>0</td>\n",
       "    </tr>\n",
       "    <tr>\n",
       "      <th>3</th>\n",
       "      <td>7</td>\n",
       "      <td>8</td>\n",
       "      <td>1</td>\n",
       "    </tr>\n",
       "  </tbody>\n",
       "</table>\n",
       "</div>"
      ],
      "text/plain": [
       "   num  amount  target\n",
       "0    1       2       0\n",
       "1    3       4       1\n",
       "2    5       6       0\n",
       "3    7       8       1"
      ]
     },
     "execution_count": 13,
     "metadata": {},
     "output_type": "execute_result"
    }
   ],
   "source": [
    "df.head()"
   ]
  },
  {
   "cell_type": "code",
   "execution_count": 15,
   "metadata": {},
   "outputs": [],
   "source": [
    "clf = RandomForestClassifier().fit(df[[\"num\", \"amount\"]], df[\"target\"])\n",
    "\n"
   ]
  },
  {
   "cell_type": "code",
   "execution_count": 16,
   "metadata": {},
   "outputs": [
    {
     "data": {
      "text/plain": [
       "1.0"
      ]
     },
     "execution_count": 16,
     "metadata": {},
     "output_type": "execute_result"
    }
   ],
   "source": [
    "clf.score(df[[\"num\", \"amount\"]], df[\"target\"])\n",
    "# 1.0\n"
   ]
  },
  {
   "cell_type": "code",
   "execution_count": 24,
   "metadata": {},
   "outputs": [
    {
     "data": {
      "text/plain": [
       "array([1])"
      ]
     },
     "execution_count": 24,
     "metadata": {},
     "output_type": "execute_result"
    }
   ],
   "source": [
    "\n",
    "clf.predict([[4, 2]])\n",
    "# array([0])"
   ]
  }
 ],
 "metadata": {
  "instance_type": "ml.t3.medium",
  "kernelspec": {
   "display_name": "Python 3 (Data Science)",
   "language": "python",
   "name": "python3__SAGEMAKER_INTERNAL__arn:aws:sagemaker:us-east-1:081325390199:image/datascience-1.0"
  },
  "language_info": {
   "codemirror_mode": {
    "name": "ipython",
    "version": 3
   },
   "file_extension": ".py",
   "mimetype": "text/x-python",
   "name": "python",
   "nbconvert_exporter": "python",
   "pygments_lexer": "ipython3",
   "version": "3.7.10"
  }
 },
 "nbformat": 4,
 "nbformat_minor": 4
}
